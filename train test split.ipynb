{
 "cells": [
  {
   "cell_type": "code",
   "execution_count": 1,
   "id": "4036aaac-6b99-43cd-9515-efbf3a34dbcd",
   "metadata": {},
   "outputs": [],
   "source": [
    "from sklearn.datasets import load_iris\n",
    "\n",
    "iris=load_iris()"
   ]
  },
  {
   "cell_type": "code",
   "execution_count": 3,
   "id": "72917334-364b-4ec9-8f7c-75ae7fc765fb",
   "metadata": {},
   "outputs": [
    {
     "data": {
      "text/plain": [
       "dict_keys(['data', 'target', 'frame', 'target_names', 'DESCR', 'feature_names', 'filename', 'data_module'])"
      ]
     },
     "execution_count": 3,
     "metadata": {},
     "output_type": "execute_result"
    }
   ],
   "source": [
    "iris.keys()\n"
   ]
  },
  {
   "cell_type": "code",
   "execution_count": 7,
   "id": "ad6bf465-5a22-48a2-a205-303381504a67",
   "metadata": {},
   "outputs": [
    {
     "data": {
      "text/plain": [
       "100.5"
      ]
     },
     "execution_count": 7,
     "metadata": {},
     "output_type": "execute_result"
    }
   ],
   "source": [
    "len(iris.data)*0.67"
   ]
  },
  {
   "cell_type": "code",
   "execution_count": 9,
   "id": "bf72f5c6-f295-453d-9ed6-33c6cd4989cc",
   "metadata": {},
   "outputs": [],
   "source": [
    "x_train = iris.data[0:100]"
   ]
  },
  {
   "cell_type": "code",
   "execution_count": 10,
   "id": "08192502-0312-4d3c-a88c-744ec7d2c23b",
   "metadata": {},
   "outputs": [],
   "source": [
    "y_train = iris.data[0:100]"
   ]
  },
  {
   "cell_type": "code",
   "execution_count": 11,
   "id": "d8a57ef8-0090-4ecd-8716-6588368cfb4e",
   "metadata": {},
   "outputs": [],
   "source": [
    "x_test = iris.data[100:]"
   ]
  },
  {
   "cell_type": "code",
   "execution_count": null,
   "id": "0a2a79ed-e9c8-4f55-9ee4-82d3fb974a56",
   "metadata": {},
   "outputs": [],
   "source": [
    "y_test = iris.data[100:]"
   ]
  },
  {
   "cell_type": "code",
   "execution_count": null,
   "id": "d151a95f-2f81-49fa-9d06-a2d7b9ecc18a",
   "metadata": {},
   "outputs": [],
   "source": [
    "from sklearn.ensemble import RandomForestClassifier\n",
    "clf = RandomForestClassifier(max_depth=2, random_state=0) #알고리즘을 선언 \n",
    "clf.fit(X_train, y_train) #fit은 학습해라 feature와lable을 학습해라 "
   ]
  },
  {
   "cell_type": "markdown",
   "id": "26d85644-a79b-4102-8cf5-004ab588053d",
   "metadata": {},
   "source": [
    "### sklearn.model_selection.train_test_split\n",
    "* sklearn.model_selection.train_test_split(*arrays, test_size=None, train_size=None, random_state=None, shuffle=True, stratify=None)"
   ]
  },
  {
   "cell_type": "code",
   "execution_count": null,
   "id": "f665a410-529f-4077-b1b8-f73d7b59fb0d",
   "metadata": {},
   "outputs": [],
   "source": []
  },
  {
   "cell_type": "code",
   "execution_count": null,
   "id": "1d952876-0436-4c8e-b862-4a6912089f43",
   "metadata": {},
   "outputs": [],
   "source": []
  },
  {
   "cell_type": "code",
   "execution_count": null,
   "id": "9abb87ee-71be-428e-acad-4b623ba0d53d",
   "metadata": {},
   "outputs": [],
   "source": []
  }
 ],
 "metadata": {
  "kernelspec": {
   "display_name": "Python 3 (ipykernel)",
   "language": "python",
   "name": "python3"
  },
  "language_info": {
   "codemirror_mode": {
    "name": "ipython",
    "version": 3
   },
   "file_extension": ".py",
   "mimetype": "text/x-python",
   "name": "python",
   "nbconvert_exporter": "python",
   "pygments_lexer": "ipython3",
   "version": "3.11.4"
  }
 },
 "nbformat": 4,
 "nbformat_minor": 5
}
